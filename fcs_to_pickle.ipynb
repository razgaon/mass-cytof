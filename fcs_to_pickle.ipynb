{
 "cells": [
  {
   "cell_type": "code",
   "execution_count": 14,
   "metadata": {},
   "outputs": [],
   "source": [
    "import fcsparser\n",
    "from os import walk\n",
    "import pandas as pd\n",
    "\n",
    "from FlowCytometryTools import FCMeasurement\n",
    "\n",
    "def create_fcs_df(file_dir):\n",
    "    files = next(walk(file_dir), (None, None, []))[2] \n",
    "    files = [f for f in files if 'fcs' in f]\n",
    "    \n",
    "    pt2id = dict(zip(files, range(len(files))))\n",
    "    \n",
    "    df = pd.DataFrame()\n",
    "    for file in files:\n",
    "        sample = FCMeasurement(ID='Test Sample', datafile=file_dir+\"/\"+file)\n",
    "        temp = sample.data\n",
    "        temp[\"pt\"] =  [pt2id[file] for x in list(temp.index)]\n",
    "        temp[\"id\"] = [\"pt\"+str(pt2id[file])+\"_\"+str(x) for x in list(temp.index)]\n",
    "        df = pd.concat([df, temp])\n",
    "    return df"
   ]
  },
  {
   "cell_type": "code",
   "execution_count": 15,
   "metadata": {},
   "outputs": [],
   "source": [
    "wei_dir=r'Wei_zyqr' #T-cells, anti-pd1\n",
    "wei_files = next(walk(wei_dir), (None, None, []))[2] \n",
    "wei_files = [f for f in wei_files if 'fcs' in f]\n",
    "\n",
    "gbm_dir=r'Lee_z4lx' #gbm, anti-pd1\n",
    "gbm_files = next(walk(gbm_dir), (None, None, []))[2] \n",
    "gbm_files = [f for f in gbm_files if 'fcs' in f]\n",
    "\n",
    "wei2id = dict(zip(wei_files, range(len(wei_files))))\n",
    "gbm2id = dict(zip(gbm_files, range(len(gbm_files))))\n",
    "\n",
    "\n",
    "\n"
   ]
  },
  {
   "cell_type": "code",
   "execution_count": 16,
   "metadata": {},
   "outputs": [],
   "source": [
    "wei_df = create_fcs_df(r'Wei_zyqr')\n",
    "wei_df.to_pickle(\"wei.pickle\")"
   ]
  },
  {
   "cell_type": "code",
   "execution_count": 18,
   "metadata": {},
   "outputs": [],
   "source": [
    "gbm_df = create_fcs_df(r'Lee_z4lx')\n",
    "gbm_df.to_pickle(\"lee.pickle\")"
   ]
  },
  {
   "cell_type": "code",
   "execution_count": 5,
   "metadata": {},
   "outputs": [],
   "source": []
  },
  {
   "cell_type": "code",
   "execution_count": 23,
   "metadata": {},
   "outputs": [],
   "source": [
    "wei_subset = wei_df[wei_df.pt<6]\n",
    "wei_subset.to_pickle(\"lee_n6.pickle\")"
   ]
  },
  {
   "cell_type": "code",
   "execution_count": 25,
   "metadata": {},
   "outputs": [],
   "source": [
    "gbm_subset = gbm_df[gbm_df.pt<5]\n",
    "gbm_subset.to_pickle(\"gbm_n6.pickle\")"
   ]
  },
  {
   "cell_type": "code",
   "execution_count": null,
   "metadata": {},
   "outputs": [],
   "source": []
  }
 ],
 "metadata": {
  "kernelspec": {
   "display_name": "clear",
   "language": "python",
   "name": "clear"
  },
  "language_info": {
   "codemirror_mode": {
    "name": "ipython",
    "version": 2
   },
   "file_extension": ".py",
   "mimetype": "text/x-python",
   "name": "python",
   "nbconvert_exporter": "python",
   "pygments_lexer": "ipython2",
   "version": "2.7.17"
  }
 },
 "nbformat": 4,
 "nbformat_minor": 4
}
