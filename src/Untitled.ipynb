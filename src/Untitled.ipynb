{
 "cells": [
  {
   "cell_type": "code",
   "execution_count": 9,
   "metadata": {},
   "outputs": [],
   "source": [
    "%reload_ext autoreload\n",
    "%autoreload 2\n",
    "import torch\n",
    "import os \n",
    "\n",
    "import pandas as pd\n",
    "import numpy as np\n",
    "# # import scanpy as sc\n",
    "# import os\n",
    "# # from sklearn.model_selection import train_test_split\n",
    "# import torch\n",
    "# from torch import nn, optim\n",
    "# from torch.utils.data import DataLoader, Dataset\n",
    "# from torch.nn import functional as F\n",
    "# from torch.autograd import Variable\n",
    "# from sklearn.preprocessing import MinMaxScaler\n",
    "\n",
    "# import functions as fx\n",
    "# import models as mx\n",
    "# import run as rx\n",
    "\n",
    "# import torch\n",
    "# import pandas as pd\n",
    "# import umap\n",
    "# from sklearn.neighbors import NearestNeighbors\n",
    "# from sklearn.metrics import mean_squared_error\n",
    "# import numpy as np\n",
    "# import matplotlib.pylab as plt\n",
    "\n",
    "# import time\n",
    "# import torch\n",
    "# from matplotlib import pyplot as plt\n",
    "# from pykeops.torch import LazyTensor\n",
    "\n",
    "# import multiprocessing\n",
    "device = torch.device(\"cuda:0\" if torch.cuda.is_available() else \"cpu\")\n"
   ]
  },
  {
   "cell_type": "code",
   "execution_count": 7,
   "metadata": {},
   "outputs": [],
   "source": [
    "df = pd.read_pickle('results/fulldata/x_train.pickle')\n",
    "dfz = pd.read_pickle('results/fulldata/latent_nonpd1.pickle')"
   ]
  },
  {
   "cell_type": "code",
   "execution_count": 2,
   "metadata": {},
   "outputs": [],
   "source": [
    "def KMeans(x, K=10, Niter=10, verbose=True):\n",
    "    \"\"\"Implements Lloyd's algorithm for the Euclidean metric.\"\"\"\n",
    "\n",
    "    start = time.time()\n",
    "    N, D = x.shape  # Number of samples, dimension of the ambient space\n",
    "\n",
    "    c = x[:K, :].clone()  # Simplistic initialization for the centroids\n",
    "\n",
    "    x_i = LazyTensor(x.view(N, 1, D))  # (N, 1, D) samples\n",
    "    c_j = LazyTensor(c.view(1, K, D))  # (1, K, D) centroids\n",
    "\n",
    "    # K-means loop:\n",
    "    # - x  is the (N, D) point cloud,\n",
    "    # - cl is the (N,) vector of class labels\n",
    "    # - c  is the (K, D) cloud of cluster centroids\n",
    "    for i in range(Niter):\n",
    "\n",
    "        # E step: assign points to the closest cluster -------------------------\n",
    "        D_ij = ((x_i - c_j) ** 2).sum(-1)  # (N, K) symbolic squared distances\n",
    "        cl = D_ij.argmin(dim=1).long().view(-1)  # Points -> Nearest cluster\n",
    "\n",
    "        # M step: update the centroids to the normalized cluster average: ------\n",
    "        # Compute the sum of points per cluster:\n",
    "        c.zero_()\n",
    "        c.scatter_add_(0, cl[:, None].repeat(1, D), x)\n",
    "\n",
    "        # Divide by the number of points per cluster:\n",
    "        Ncl = torch.bincount(cl, minlength=K).type_as(c).view(K, 1)\n",
    "        c /= Ncl  # in-place division to compute the average\n",
    "\n",
    "    if verbose:  # Fancy display -----------------------------------------------\n",
    "        if use_cuda:\n",
    "            torch.cuda.synchronize()\n",
    "        end = time.time()\n",
    "        print(\n",
    "            f\"K-means for the Euclidean metric with {N:,} points in dimension {D:,}, K = {K:,}:\"\n",
    "        )\n",
    "        print(\n",
    "            \"Timing for {} iterations: {:.5f}s = {} x {:.5f}s\\n\".format(\n",
    "                Niter, end - start, Niter, (end - start) / Niter\n",
    "            )\n",
    "        )\n",
    "\n",
    "    return cl, c"
   ]
  },
  {
   "cell_type": "code",
   "execution_count": 5,
   "metadata": {},
   "outputs": [
    {
     "ename": "NameError",
     "evalue": "name 'time' is not defined",
     "output_type": "error",
     "traceback": [
      "\u001b[0;31m---------------------------------------------------------------------------\u001b[0m",
      "\u001b[0;31mNameError\u001b[0m                                 Traceback (most recent call last)",
      "Input \u001b[0;32mIn [5]\u001b[0m, in \u001b[0;36m<cell line: 8>\u001b[0;34m()\u001b[0m\n\u001b[1;32m      4\u001b[0m N, D, K \u001b[38;5;241m=\u001b[39m \u001b[38;5;241m10000\u001b[39m, \u001b[38;5;241m2\u001b[39m, \u001b[38;5;241m50\u001b[39m\n\u001b[1;32m      6\u001b[0m x \u001b[38;5;241m=\u001b[39m \u001b[38;5;241m0.7\u001b[39m \u001b[38;5;241m*\u001b[39m torch\u001b[38;5;241m.\u001b[39mrandn(N, D, dtype\u001b[38;5;241m=\u001b[39mdtype, device\u001b[38;5;241m=\u001b[39mdevice_id) \u001b[38;5;241m+\u001b[39m \u001b[38;5;241m0.3\u001b[39m\n\u001b[0;32m----> 8\u001b[0m cl, c \u001b[38;5;241m=\u001b[39m \u001b[43mKMeans\u001b[49m\u001b[43m(\u001b[49m\u001b[43mx\u001b[49m\u001b[43m,\u001b[49m\u001b[43m \u001b[49m\u001b[43mK\u001b[49m\u001b[43m)\u001b[49m\n",
      "Input \u001b[0;32mIn [2]\u001b[0m, in \u001b[0;36mKMeans\u001b[0;34m(x, K, Niter, verbose)\u001b[0m\n\u001b[1;32m      1\u001b[0m \u001b[38;5;28;01mdef\u001b[39;00m \u001b[38;5;21mKMeans\u001b[39m(x, K\u001b[38;5;241m=\u001b[39m\u001b[38;5;241m10\u001b[39m, Niter\u001b[38;5;241m=\u001b[39m\u001b[38;5;241m10\u001b[39m, verbose\u001b[38;5;241m=\u001b[39m\u001b[38;5;28;01mTrue\u001b[39;00m):\n\u001b[1;32m      2\u001b[0m     \u001b[38;5;124;03m\"\"\"Implements Lloyd's algorithm for the Euclidean metric.\"\"\"\u001b[39;00m\n\u001b[0;32m----> 4\u001b[0m     start \u001b[38;5;241m=\u001b[39m \u001b[43mtime\u001b[49m\u001b[38;5;241m.\u001b[39mtime()\n\u001b[1;32m      5\u001b[0m     N, D \u001b[38;5;241m=\u001b[39m x\u001b[38;5;241m.\u001b[39mshape  \u001b[38;5;66;03m# Number of samples, dimension of the ambient space\u001b[39;00m\n\u001b[1;32m      7\u001b[0m     c \u001b[38;5;241m=\u001b[39m x[:K, :]\u001b[38;5;241m.\u001b[39mclone()  \u001b[38;5;66;03m# Simplistic initialization for the centroids\u001b[39;00m\n",
      "\u001b[0;31mNameError\u001b[0m: name 'time' is not defined"
     ]
    }
   ],
   "source": [
    "use_cuda = torch.cuda.is_available()\n",
    "dtype = torch.float32 if use_cuda else torch.float64\n",
    "device_id = \"cuda:0\" if use_cuda else \"cpu\"\n",
    "N, D, K = 10000, 2, 50\n",
    "\n",
    "x = 0.7 * torch.randn(N, D, dtype=dtype, device=device_id) + 0.3\n",
    "\n",
    "cl, c = KMeans(x, K)\n"
   ]
  },
  {
   "cell_type": "code",
   "execution_count": null,
   "metadata": {},
   "outputs": [],
   "source": [
    "cl"
   ]
  },
  {
   "cell_type": "code",
   "execution_count": null,
   "metadata": {},
   "outputs": [],
   "source": [
    "plt.figure(figsize=(8, 8))\n",
    "plt.scatter(x[:, 0].cpu(), x[:, 1].cpu(), c=cl.cpu(), s=30000 / len(x), cmap=\"tab10\")\n",
    "plt.scatter(c[:, 0].cpu(), c[:, 1].cpu(), c=\"black\", s=50, alpha=0.8)\n",
    "plt.axis([-2, 2, -2, 2])\n",
    "plt.tight_layout()\n",
    "plt.show()"
   ]
  },
  {
   "cell_type": "code",
   "execution_count": 2,
   "metadata": {},
   "outputs": [],
   "source": [
    "import torch\n",
    "import scipy.spatial\n",
    "from torch_cluster import knn"
   ]
  },
  {
   "cell_type": "code",
   "execution_count": 32,
   "metadata": {},
   "outputs": [],
   "source": [
    "import clustering\n",
    "\n",
    "a = torch.tensor([[ 0.9722, -1.5786, -1.3693,  0.3016,  2.1844],\n",
    "           [-0.9048, -1.1370, -0.2596,  0.9444,  1.4554],\n",
    "            [ 0.0236,  1.3403, -1.0269,  1.4283,  1.5248],\n",
    "              [-0.4894,  1, -2.3708,  0.7294, -0.1721],\n",
    "                   [-0.4894,  0.3441, -2.3708,  0.7294, -0.1721]\n",
    "]).to(device)\n",
    "\n",
    "b = torch.LongTensor([0, 1, 2, 3])\n",
    "\n",
    "c = torch.tensor([\n",
    "    [-0.4894,  0.3441, -2.3708,  0.7294, -0.1721]\n",
    "]).to(device)\n",
    "\n",
    "dist = torch.norm(a - c, dim=1, p=None)\n",
    "knn = dist.topk(2, largest=False)"
   ]
  },
  {
   "cell_type": "code",
   "execution_count": 33,
   "metadata": {},
   "outputs": [
    {
     "data": {
      "text/plain": [
       "torch.return_types.topk(\n",
       "values=tensor([0.0000, 0.6559], device='cuda:0'),\n",
       "indices=tensor([4, 3], device='cuda:0'))"
      ]
     },
     "execution_count": 33,
     "metadata": {},
     "output_type": "execute_result"
    }
   ],
   "source": [
    "knn"
   ]
  },
  {
   "cell_type": "code",
   "execution_count": 26,
   "metadata": {},
   "outputs": [
    {
     "data": {
      "text/plain": [
       "tensor([[-0.4894,  0.3441, -2.3708,  0.7294, -0.1721]], device='cuda:0')"
      ]
     },
     "execution_count": 26,
     "metadata": {},
     "output_type": "execute_result"
    }
   ],
   "source": [
    "y"
   ]
  },
  {
   "cell_type": "code",
   "execution_count": 10,
   "metadata": {},
   "outputs": [],
   "source": [
    "temp = dfz.iloc[:5]\n",
    "source0 = temp[temp.source==0].drop(columns=\"source\")\n",
    "source_n0 = temp[temp.source!=0].drop(columns=\"source\")\n",
    "# assign_index = knn(source0, source_n0, 2)\n",
    "x = torch.tensor(source0.values.astype(np.float32)).to(device)\n",
    "y = torch.tensor(source_n0.values.astype(np.float32)).to(device)\n",
    "\n",
    "\n",
    "dist = torch.norm(x - y, dim=1, p=None)\n",
    "\n",
    "knn = dist.topk(2, largest=False)"
   ]
  },
  {
   "cell_type": "code",
   "execution_count": 11,
   "metadata": {},
   "outputs": [
    {
     "data": {
      "text/html": [
       "<div>\n",
       "<style scoped>\n",
       "    .dataframe tbody tr th:only-of-type {\n",
       "        vertical-align: middle;\n",
       "    }\n",
       "\n",
       "    .dataframe tbody tr th {\n",
       "        vertical-align: top;\n",
       "    }\n",
       "\n",
       "    .dataframe thead th {\n",
       "        text-align: right;\n",
       "    }\n",
       "</style>\n",
       "<table border=\"1\" class=\"dataframe\">\n",
       "  <thead>\n",
       "    <tr style=\"text-align: right;\">\n",
       "      <th></th>\n",
       "      <th>0</th>\n",
       "      <th>1</th>\n",
       "      <th>2</th>\n",
       "      <th>3</th>\n",
       "      <th>4</th>\n",
       "    </tr>\n",
       "    <tr>\n",
       "      <th>id</th>\n",
       "      <th></th>\n",
       "      <th></th>\n",
       "      <th></th>\n",
       "      <th></th>\n",
       "      <th></th>\n",
       "    </tr>\n",
       "  </thead>\n",
       "  <tbody>\n",
       "    <tr>\n",
       "      <th>s0pt88_8023</th>\n",
       "      <td>0.972227</td>\n",
       "      <td>-1.578553</td>\n",
       "      <td>-1.369311</td>\n",
       "      <td>0.301595</td>\n",
       "      <td>2.184441</td>\n",
       "    </tr>\n",
       "    <tr>\n",
       "      <th>s0pt161_82476</th>\n",
       "      <td>-0.904781</td>\n",
       "      <td>-1.137039</td>\n",
       "      <td>-0.259605</td>\n",
       "      <td>0.944401</td>\n",
       "      <td>1.455388</td>\n",
       "    </tr>\n",
       "    <tr>\n",
       "      <th>s0pt91_597</th>\n",
       "      <td>0.023647</td>\n",
       "      <td>1.340321</td>\n",
       "      <td>-1.026875</td>\n",
       "      <td>1.428309</td>\n",
       "      <td>1.524810</td>\n",
       "    </tr>\n",
       "    <tr>\n",
       "      <th>s0pt34_42066</th>\n",
       "      <td>0.709087</td>\n",
       "      <td>1.181129</td>\n",
       "      <td>-0.672512</td>\n",
       "      <td>-1.005812</td>\n",
       "      <td>0.043640</td>\n",
       "    </tr>\n",
       "  </tbody>\n",
       "</table>\n",
       "</div>"
      ],
      "text/plain": [
       "                      0         1         2         3         4\n",
       "id                                                             \n",
       "s0pt88_8023    0.972227 -1.578553 -1.369311  0.301595  2.184441\n",
       "s0pt161_82476 -0.904781 -1.137039 -0.259605  0.944401  1.455388\n",
       "s0pt91_597     0.023647  1.340321 -1.026875  1.428309  1.524810\n",
       "s0pt34_42066   0.709087  1.181129 -0.672512 -1.005812  0.043640"
      ]
     },
     "execution_count": 11,
     "metadata": {},
     "output_type": "execute_result"
    }
   ],
   "source": [
    "source0"
   ]
  },
  {
   "cell_type": "code",
   "execution_count": 12,
   "metadata": {},
   "outputs": [
    {
     "data": {
      "text/html": [
       "<div>\n",
       "<style scoped>\n",
       "    .dataframe tbody tr th:only-of-type {\n",
       "        vertical-align: middle;\n",
       "    }\n",
       "\n",
       "    .dataframe tbody tr th {\n",
       "        vertical-align: top;\n",
       "    }\n",
       "\n",
       "    .dataframe thead th {\n",
       "        text-align: right;\n",
       "    }\n",
       "</style>\n",
       "<table border=\"1\" class=\"dataframe\">\n",
       "  <thead>\n",
       "    <tr style=\"text-align: right;\">\n",
       "      <th></th>\n",
       "      <th>0</th>\n",
       "      <th>1</th>\n",
       "      <th>2</th>\n",
       "      <th>3</th>\n",
       "      <th>4</th>\n",
       "    </tr>\n",
       "    <tr>\n",
       "      <th>id</th>\n",
       "      <th></th>\n",
       "      <th></th>\n",
       "      <th></th>\n",
       "      <th></th>\n",
       "      <th></th>\n",
       "    </tr>\n",
       "  </thead>\n",
       "  <tbody>\n",
       "    <tr>\n",
       "      <th>s1pt34_28031</th>\n",
       "      <td>-0.489359</td>\n",
       "      <td>0.344072</td>\n",
       "      <td>-2.370759</td>\n",
       "      <td>0.729445</td>\n",
       "      <td>-0.172081</td>\n",
       "    </tr>\n",
       "  </tbody>\n",
       "</table>\n",
       "</div>"
      ],
      "text/plain": [
       "                     0         1         2         3         4\n",
       "id                                                            \n",
       "s1pt34_28031 -0.489359  0.344072 -2.370759  0.729445 -0.172081"
      ]
     },
     "execution_count": 12,
     "metadata": {},
     "output_type": "execute_result"
    }
   ],
   "source": [
    "source_n0"
   ]
  },
  {
   "cell_type": "code",
   "execution_count": 13,
   "metadata": {},
   "outputs": [
    {
     "name": "stdout",
     "output_type": "stream",
     "text": [
      "kNN dist: tensor([2.5357, 2.8423], device='cuda:0'), index: tensor([2, 3], device='cuda:0')\n"
     ]
    }
   ],
   "source": [
    "print('kNN dist: {}, index: {}'.format(knn.values, knn.indices))"
   ]
  },
  {
   "cell_type": "code",
   "execution_count": 5,
   "metadata": {},
   "outputs": [
    {
     "ename": "RuntimeError",
     "evalue": "The size of tensor a (8) must match the size of tensor b (4) at non-singleton dimension 0",
     "output_type": "error",
     "traceback": [
      "\u001b[0;31m---------------------------------------------------------------------------\u001b[0m",
      "\u001b[0;31mRuntimeError\u001b[0m                              Traceback (most recent call last)",
      "Input \u001b[0;32mIn [5]\u001b[0m, in \u001b[0;36m<cell line: 4>\u001b[0;34m()\u001b[0m\n\u001b[1;32m      1\u001b[0m x \u001b[38;5;241m=\u001b[39m torch\u001b[38;5;241m.\u001b[39mTensor([[\u001b[38;5;241m-\u001b[39m\u001b[38;5;241m1\u001b[39m, \u001b[38;5;241m-\u001b[39m\u001b[38;5;241m1\u001b[39m], [\u001b[38;5;241m-\u001b[39m\u001b[38;5;241m1\u001b[39m, \u001b[38;5;241m1\u001b[39m], [\u001b[38;5;241m1\u001b[39m, \u001b[38;5;241m-\u001b[39m\u001b[38;5;241m1\u001b[39m], [\u001b[38;5;241m1\u001b[39m, \u001b[38;5;241m1\u001b[39m], [\u001b[38;5;241m-\u001b[39m\u001b[38;5;241m1\u001b[39m, \u001b[38;5;241m0\u001b[39m], [\u001b[38;5;241m1\u001b[39m, \u001b[38;5;241m0\u001b[39m], [\u001b[38;5;241m1\u001b[39m, \u001b[38;5;241m-\u001b[39m\u001b[38;5;241m1\u001b[39m], [\u001b[38;5;241m-\u001b[39m\u001b[38;5;241m1\u001b[39m, \u001b[38;5;241m0\u001b[39m]])\u001b[38;5;241m.\u001b[39mto(device)\n\u001b[1;32m      2\u001b[0m y \u001b[38;5;241m=\u001b[39m torch\u001b[38;5;241m.\u001b[39mTensor([[\u001b[38;5;241m-\u001b[39m\u001b[38;5;241m1\u001b[39m, \u001b[38;5;241m0\u001b[39m], [\u001b[38;5;241m1\u001b[39m, \u001b[38;5;241m0\u001b[39m], [\u001b[38;5;241m-\u001b[39m\u001b[38;5;241m1\u001b[39m, \u001b[38;5;241m0\u001b[39m], [\u001b[38;5;241m1\u001b[39m, \u001b[38;5;241m0\u001b[39m]])\u001b[38;5;241m.\u001b[39mto(device)\n\u001b[0;32m----> 4\u001b[0m dist \u001b[38;5;241m=\u001b[39m torch\u001b[38;5;241m.\u001b[39mnorm(\u001b[43mx\u001b[49m\u001b[43m \u001b[49m\u001b[38;5;241;43m-\u001b[39;49m\u001b[43m \u001b[49m\u001b[43my\u001b[49m, dim\u001b[38;5;241m=\u001b[39m\u001b[38;5;241m1\u001b[39m, p\u001b[38;5;241m=\u001b[39m\u001b[38;5;28;01mNone\u001b[39;00m)\n\u001b[1;32m      5\u001b[0m knn \u001b[38;5;241m=\u001b[39m dist\u001b[38;5;241m.\u001b[39mtopk(\u001b[38;5;241m3\u001b[39m, largest\u001b[38;5;241m=\u001b[39m\u001b[38;5;28;01mFalse\u001b[39;00m)\n\u001b[1;32m      7\u001b[0m \u001b[38;5;28mprint\u001b[39m(\u001b[38;5;124m'\u001b[39m\u001b[38;5;124mkNN dist: \u001b[39m\u001b[38;5;132;01m{}\u001b[39;00m\u001b[38;5;124m, index: \u001b[39m\u001b[38;5;132;01m{}\u001b[39;00m\u001b[38;5;124m'\u001b[39m\u001b[38;5;241m.\u001b[39mformat(knn\u001b[38;5;241m.\u001b[39mvalues, knn\u001b[38;5;241m.\u001b[39mindices))\n",
      "\u001b[0;31mRuntimeError\u001b[0m: The size of tensor a (8) must match the size of tensor b (4) at non-singleton dimension 0"
     ]
    }
   ],
   "source": [
    "x = torch.Tensor([[-1, -1], [-1, 1], [1, -1], [1, 1], [-1, 0], [1, 0], [1, -1], [-1, 0]]).to(device)\n",
    "y = torch.Tensor([[-1, 0], [1, 0], [-1, 0], [1, 0]]).to(device)\n",
    "\n",
    "dist = torch.norm(x - y, dim=1, p=None)\n",
    "knn = dist.topk(3, largest=False)\n",
    "\n",
    "print('kNN dist: {}, index: {}'.format(knn.values, knn.indices))"
   ]
  },
  {
   "cell_type": "code",
   "execution_count": 7,
   "metadata": {},
   "outputs": [],
   "source": [
    "# data = torch.randn(100, 10)\n",
    "# test = torch.randn(1, 10)\n",
    "\n",
    "# dist = torch.norm(data - test, dim=1, p=None)\n",
    "# knn = dist.topk(3, largest=False)\n",
    "\n",
    "# print('kNN dist: {}, index: {}'.format(knn.values, knn.indices))\n",
    "# data"
   ]
  },
  {
   "cell_type": "code",
   "execution_count": 3,
   "metadata": {},
   "outputs": [
    {
     "ename": "RuntimeError",
     "evalue": "The following operation failed in the TorchScript interpreter.\nTraceback of TorchScript (most recent call last):\n  File \"/nobackup/users/ifrah/projects/condas/cytof/miniconda3/envs/cytof/lib/python3.9/site-packages/torch_cluster/knn.py\", line 70, in knn\n        ptr_y = torch.bucketize(arange, batch_y)\n\n    return torch.ops.torch_cluster.knn(x, y, ptr_x, ptr_y, k, cosine,\n           ~~~~~~~~~~~~~~~~~~~~~~~~~~~ <--- HERE\n                                       num_workers)\nRuntimeError: Not compiled with CUDA support\n",
     "output_type": "error",
     "traceback": [
      "\u001b[0;31m---------------------------------------------------------------------------\u001b[0m",
      "\u001b[0;31mRuntimeError\u001b[0m                              Traceback (most recent call last)",
      "Input \u001b[0;32mIn [3]\u001b[0m, in \u001b[0;36m<cell line: 5>\u001b[0;34m()\u001b[0m\n\u001b[1;32m      3\u001b[0m y \u001b[38;5;241m=\u001b[39m torch\u001b[38;5;241m.\u001b[39mTensor([[\u001b[38;5;241m-\u001b[39m\u001b[38;5;241m1\u001b[39m, \u001b[38;5;241m0\u001b[39m], [\u001b[38;5;241m1\u001b[39m, \u001b[38;5;241m0\u001b[39m], [\u001b[38;5;241m-\u001b[39m\u001b[38;5;241m1\u001b[39m, \u001b[38;5;241m0\u001b[39m], [\u001b[38;5;241m1\u001b[39m, \u001b[38;5;241m0\u001b[39m]])\u001b[38;5;241m.\u001b[39mto(device)\n\u001b[1;32m      4\u001b[0m batch_y \u001b[38;5;241m=\u001b[39m torch\u001b[38;5;241m.\u001b[39mtensor([\u001b[38;5;241m0\u001b[39m, \u001b[38;5;241m0\u001b[39m, \u001b[38;5;241m1\u001b[39m, \u001b[38;5;241m1\u001b[39m])\n\u001b[0;32m----> 5\u001b[0m assign_index \u001b[38;5;241m=\u001b[39m \u001b[43mknn\u001b[49m\u001b[43m(\u001b[49m\u001b[43mx\u001b[49m\u001b[43m,\u001b[49m\u001b[43m \u001b[49m\u001b[43my\u001b[49m\u001b[43m,\u001b[49m\u001b[43m \u001b[49m\u001b[38;5;241;43m4\u001b[39;49m\u001b[43m)\u001b[49m\n\u001b[1;32m      6\u001b[0m \u001b[38;5;28mprint\u001b[39m(assign_index)\n",
      "\u001b[0;31mRuntimeError\u001b[0m: The following operation failed in the TorchScript interpreter.\nTraceback of TorchScript (most recent call last):\n  File \"/nobackup/users/ifrah/projects/condas/cytof/miniconda3/envs/cytof/lib/python3.9/site-packages/torch_cluster/knn.py\", line 70, in knn\n        ptr_y = torch.bucketize(arange, batch_y)\n\n    return torch.ops.torch_cluster.knn(x, y, ptr_x, ptr_y, k, cosine,\n           ~~~~~~~~~~~~~~~~~~~~~~~~~~~ <--- HERE\n                                       num_workers)\nRuntimeError: Not compiled with CUDA support\n"
     ]
    }
   ],
   "source": [
    "x = torch.Tensor([[-1, -1], [-1, 1], [1, -1], [1, 1], [-1, 0], [1, 0], [1, -1], [-1, 0]]).to(device)\n",
    "batch_x = torch.tensor([0, 0, 0, 0, 1, 1, 1, 1])\n",
    "y = torch.Tensor([[-1, 0], [1, 0], [-1, 0], [1, 0]]).to(device)\n",
    "batch_y = torch.tensor([0, 0, 1, 1])\n",
    "assign_index = knn(x, y, 4)\n",
    "print(assign_index)"
   ]
  },
  {
   "cell_type": "code",
   "execution_count": null,
   "metadata": {},
   "outputs": [],
   "source": [
    "def transform_indices(indices_df):    \n",
    "    # Transforms indices of nearest neighbors from sample to fit the indices of the larger dataframe.\n",
    "    indices_new = np.array([indices_df.index[x] for x in indices_df.values.flatten()]).reshape(indices_df.shape)\n",
    "    indices_new = pd.DataFrame(indices_new, index=indices_df.index)\n",
    "    return indices_new"
   ]
  },
  {
   "cell_type": "code",
   "execution_count": 4,
   "metadata": {},
   "outputs": [
    {
     "ename": "NameError",
     "evalue": "name 'pd' is not defined",
     "output_type": "error",
     "traceback": [
      "\u001b[0;31m---------------------------------------------------------------------------\u001b[0m",
      "\u001b[0;31mNameError\u001b[0m                                 Traceback (most recent call last)",
      "Input \u001b[0;32mIn [4]\u001b[0m, in \u001b[0;36m<cell line: 1>\u001b[0;34m()\u001b[0m\n\u001b[0;32m----> 1\u001b[0m df \u001b[38;5;241m=\u001b[39m \u001b[43mpd\u001b[49m\u001b[38;5;241m.\u001b[39mread_pickle(\u001b[38;5;124m'\u001b[39m\u001b[38;5;124mresults/fulldata/x_train.pickle\u001b[39m\u001b[38;5;124m'\u001b[39m)\n",
      "\u001b[0;31mNameError\u001b[0m: name 'pd' is not defined"
     ]
    }
   ],
   "source": [
    "df = pd.read_pickle('results/fulldata/x_train.pickle')\n",
    "dfz = pd.read_pickle('results/fulldata/latent_nonpd1.pickle')"
   ]
  },
  {
   "cell_type": "code",
   "execution_count": 5,
   "metadata": {},
   "outputs": [
    {
     "ename": "NameError",
     "evalue": "name 'pd' is not defined",
     "output_type": "error",
     "traceback": [
      "\u001b[0;31m---------------------------------------------------------------------------\u001b[0m",
      "\u001b[0;31mNameError\u001b[0m                                 Traceback (most recent call last)",
      "Input \u001b[0;32mIn [5]\u001b[0m, in \u001b[0;36m<cell line: 1>\u001b[0;34m()\u001b[0m\n\u001b[0;32m----> 1\u001b[0m dfz \u001b[38;5;241m=\u001b[39m \u001b[43mpd\u001b[49m\u001b[38;5;241m.\u001b[39mread_pickle(\u001b[38;5;124m'\u001b[39m\u001b[38;5;124mresults/fulldata/latent_nonpd1.pickle\u001b[39m\u001b[38;5;124m'\u001b[39m)\n",
      "\u001b[0;31mNameError\u001b[0m: name 'pd' is not defined"
     ]
    }
   ],
   "source": [
    "dfz = pd.read_pickle('results/fulldata/latent_nonpd1.pickle')"
   ]
  },
  {
   "cell_type": "code",
   "execution_count": 6,
   "metadata": {},
   "outputs": [],
   "source": []
  },
  {
   "cell_type": "code",
   "execution_count": 11,
   "metadata": {},
   "outputs": [],
   "source": [
    "# Make a umap of the latent space\n",
    "def computeUMAProjectionOfLatentSpace(df, display=True):\n",
    "    \n",
    "    df = df.sample(10000)\n",
    "    latent = df.drop(columns=[\"source\"])\n",
    "\n",
    "    # Compute t-SNE embedding of latent space\n",
    "    print(\"Computing umap embedding...\")\n",
    "    model = umap.UMAP(n_components=2, random_state=0)\n",
    "    X_umap = model.fit_transform(latent)\n",
    "\n",
    "    # Plot images according to t-sne embedding\n",
    "    if display:\n",
    "        print(\"Plotting umap visualization...\")\n",
    "        plt.scatter(X_umap[:, 0], X_umap[:, 1], c=df.source)\n",
    "        plt.show()\n",
    "    else:\n",
    "        return X_umap"
   ]
  },
  {
   "cell_type": "code",
   "execution_count": 12,
   "metadata": {},
   "outputs": [
    {
     "name": "stdout",
     "output_type": "stream",
     "text": [
      "Computing umap embedding...\n",
      "Plotting umap visualization...\n"
     ]
    },
    {
     "data": {
      "image/png": "[encoded data removed]",
      "text/plain": [
       "<Figure size 432x288 with 1 Axes>"
      ]
     },
     "metadata": {
      "needs_background": "light"
     },
     "output_type": "display_data"
    }
   ],
   "source": [
    "computeUMAProjectionOfLatentSpace(df)"
   ]
  },
  {
   "cell_type": "code",
   "execution_count": 13,
   "metadata": {},
   "outputs": [
    {
     "name": "stdout",
     "output_type": "stream",
     "text": [
      "Computing umap embedding...\n",
      "Plotting umap visualization...\n"
     ]
    },
    {
     "data": {
      "image/png": "[encoded data removed]",
      "text/plain": [
       "<Figure size 432x288 with 1 Axes>"
      ]
     },
     "metadata": {
      "needs_background": "light"
     },
     "output_type": "display_data"
    }
   ],
   "source": [
    "computeUMAProjectionOfLatentSpace(dfz)"
   ]
  },
  {
   "cell_type": "code",
   "execution_count": null,
   "metadata": {},
   "outputs": [],
   "source": [
    "# Step 1: Get the distances matrix\n",
    "sample = dfz#.sample(1000)\n",
    "sample_clean = sample.drop(columns=[\"source\"])\n",
    "nrst_neigh = NearestNeighbors(n_neighbors = 10, algorithm = 'auto')\n",
    "nrst_neigh.fit(sample_clean)\n",
    "distances, indices = nrst_neigh.kneighbors(sample_clean)"
   ]
  },
  {
   "cell_type": "code",
   "execution_count": 19,
   "metadata": {},
   "outputs": [],
   "source": [
    "import torch\n",
    "import scipy.spatial\n",
    "from torch_cluster import knn"
   ]
  },
  {
   "cell_type": "code",
   "execution_count": 20,
   "metadata": {},
   "outputs": [
    {
     "ename": "ModuleNotFoundError",
     "evalue": "No module named 'torch_cluster.knn_cuda'",
     "output_type": "error",
     "traceback": [
      "\u001b[0;31m---------------------------------------------------------------------------\u001b[0m",
      "\u001b[0;31mModuleNotFoundError\u001b[0m                       Traceback (most recent call last)",
      "Input \u001b[0;32mIn [20]\u001b[0m, in \u001b[0;36m<cell line: 1>\u001b[0;34m()\u001b[0m\n\u001b[1;32m      1\u001b[0m \u001b[38;5;28;01mif\u001b[39;00m torch\u001b[38;5;241m.\u001b[39mcuda\u001b[38;5;241m.\u001b[39mis_available():\n\u001b[0;32m----> 2\u001b[0m     \u001b[38;5;28;01mimport\u001b[39;00m \u001b[38;5;21;01mtorch_cluster\u001b[39;00m\u001b[38;5;21;01m.\u001b[39;00m\u001b[38;5;21;01mknn_cuda\u001b[39;00m\n",
      "\u001b[0;31mModuleNotFoundError\u001b[0m: No module named 'torch_cluster.knn_cuda'"
     ]
    }
   ],
   "source": [
    "if torch.cuda.is_available():\n",
    "    import torch_cluster.knn_cuda"
   ]
  },
  {
   "cell_type": "code",
   "execution_count": 16,
   "metadata": {},
   "outputs": [
    {
     "data": {
      "text/html": [
       "<div>\n",
       "<style scoped>\n",
       "    .dataframe tbody tr th:only-of-type {\n",
       "        vertical-align: middle;\n",
       "    }\n",
       "\n",
       "    .dataframe tbody tr th {\n",
       "        vertical-align: top;\n",
       "    }\n",
       "\n",
       "    .dataframe thead th {\n",
       "        text-align: right;\n",
       "    }\n",
       "</style>\n",
       "<table border=\"1\" class=\"dataframe\">\n",
       "  <thead>\n",
       "    <tr style=\"text-align: right;\">\n",
       "      <th></th>\n",
       "      <th>0</th>\n",
       "      <th>1</th>\n",
       "      <th>2</th>\n",
       "      <th>3</th>\n",
       "      <th>4</th>\n",
       "    </tr>\n",
       "    <tr>\n",
       "      <th>id</th>\n",
       "      <th></th>\n",
       "      <th></th>\n",
       "      <th></th>\n",
       "      <th></th>\n",
       "      <th></th>\n",
       "    </tr>\n",
       "  </thead>\n",
       "  <tbody>\n",
       "    <tr>\n",
       "      <th>s1pt34_28031</th>\n",
       "      <td>-0.489359</td>\n",
       "      <td>0.344072</td>\n",
       "      <td>-2.370759</td>\n",
       "      <td>0.729445</td>\n",
       "      <td>-0.172081</td>\n",
       "    </tr>\n",
       "  </tbody>\n",
       "</table>\n",
       "</div>"
      ],
      "text/plain": [
       "                     0         1         2         3         4\n",
       "id                                                            \n",
       "s1pt34_28031 -0.489359  0.344072 -2.370759  0.729445 -0.172081"
      ]
     },
     "execution_count": 16,
     "metadata": {},
     "output_type": "execute_result"
    }
   ],
   "source": [
    "source_n0"
   ]
  },
  {
   "cell_type": "code",
   "execution_count": 21,
   "metadata": {},
   "outputs": [
    {
     "ename": "RuntimeError",
     "evalue": "The following operation failed in the TorchScript interpreter.\nTraceback of TorchScript (most recent call last):\n  File \"/nobackup/users/ifrah/projects/condas/cytof/miniconda3/envs/cytof/lib/python3.9/site-packages/torch_cluster/knn.py\", line 70, in knn\n        ptr_y = torch.bucketize(arange, batch_y)\n\n    return torch.ops.torch_cluster.knn(x, y, ptr_x, ptr_y, k, cosine,\n           ~~~~~~~~~~~~~~~~~~~~~~~~~~~ <--- HERE\n                                       num_workers)\nRuntimeError: Not compiled with CUDA support\n",
     "output_type": "error",
     "traceback": [
      "\u001b[0;31m---------------------------------------------------------------------------\u001b[0m",
      "\u001b[0;31mRuntimeError\u001b[0m                              Traceback (most recent call last)",
      "Input \u001b[0;32mIn [21]\u001b[0m, in \u001b[0;36m<cell line: 8>\u001b[0;34m()\u001b[0m\n\u001b[1;32m      5\u001b[0m x \u001b[38;5;241m=\u001b[39m torch\u001b[38;5;241m.\u001b[39mtensor(source0\u001b[38;5;241m.\u001b[39mvalues\u001b[38;5;241m.\u001b[39mastype(np\u001b[38;5;241m.\u001b[39mfloat32))\u001b[38;5;241m.\u001b[39mto(device)\n\u001b[1;32m      6\u001b[0m y \u001b[38;5;241m=\u001b[39m torch\u001b[38;5;241m.\u001b[39mtensor(source_n0\u001b[38;5;241m.\u001b[39mvalues\u001b[38;5;241m.\u001b[39mastype(np\u001b[38;5;241m.\u001b[39mfloat32))\u001b[38;5;241m.\u001b[39mto(device)\n\u001b[0;32m----> 8\u001b[0m assign_index \u001b[38;5;241m=\u001b[39m \u001b[43mknn\u001b[49m\u001b[43m(\u001b[49m\u001b[43mx\u001b[49m\u001b[43m,\u001b[49m\u001b[43m \u001b[49m\u001b[43my\u001b[49m\u001b[43m,\u001b[49m\u001b[43m \u001b[49m\u001b[38;5;241;43m4\u001b[39;49m\u001b[43m)\u001b[49m\n\u001b[1;32m      9\u001b[0m assign_index\n",
      "\u001b[0;31mRuntimeError\u001b[0m: The following operation failed in the TorchScript interpreter.\nTraceback of TorchScript (most recent call last):\n  File \"/nobackup/users/ifrah/projects/condas/cytof/miniconda3/envs/cytof/lib/python3.9/site-packages/torch_cluster/knn.py\", line 70, in knn\n        ptr_y = torch.bucketize(arange, batch_y)\n\n    return torch.ops.torch_cluster.knn(x, y, ptr_x, ptr_y, k, cosine,\n           ~~~~~~~~~~~~~~~~~~~~~~~~~~~ <--- HERE\n                                       num_workers)\nRuntimeError: Not compiled with CUDA support\n"
     ]
    }
   ],
   "source": [
    "temp = dfz.iloc[:5]\n",
    "source0 = temp[temp.source==0].drop(columns=\"source\")\n",
    "source_n0 = temp[temp.source!=0].drop(columns=\"source\")\n",
    "# assign_index = knn(source0, source_n0, 2)\n",
    "x = torch.tensor(source0.values.astype(np.float32)).to(device)\n",
    "y = torch.tensor(source_n0.values.astype(np.float32)).to(device)\n",
    "\n",
    "assign_index = knn(x, y, 4)\n",
    "assign_index"
   ]
  },
  {
   "cell_type": "code",
   "execution_count": 17,
   "metadata": {},
   "outputs": [
    {
     "name": "stdout",
     "output_type": "stream",
     "text": [
      "tensor([[0, 0, 0, 0, 1, 1, 1, 1, 2, 2, 2, 2, 3, 3, 3, 3],\n",
      "        [4, 7, 0, 1, 5, 2, 3, 6, 4, 7, 0, 1, 5, 2, 3, 6]])\n"
     ]
    }
   ],
   "source": [
    "x = torch.Tensor([[-1, -1], [-1, 1], [1, -1], [1, 1], [-1, 0], [1, 0], [1, -1], [-1, 0]]).to(device)\n",
    "batch_x = torch.tensor([0, 0, 0, 0, 1, 1, 1, 1])\n",
    "y = torch.Tensor([[-1, 0], [1, 0], [-1, 0], [1, 0]]).to(device)\n",
    "batch_y = torch.tensor([0, 0, 1, 1])\n",
    "assign_index = knn(x, y, 4)\n",
    "print(assign_index)"
   ]
  },
  {
   "cell_type": "code",
   "execution_count": null,
   "metadata": {},
   "outputs": [],
   "source": [
    "indices_df = pd.DataFrame(indices, index=sample_clean.index, dtype=\"Int64\")\n",
    "indices_df['source'] = sample.source\n",
    "indices_df.to_csv('results/fulldata/nn_indices.csv')\n",
    "\n",
    "distances_df = pd.DataFrame(distances, index=sample_clean.index)\n",
    "distances_df['source'] = sample.source\n",
    "distances_df.to_csv('results/fulldata/nn_distances.csv')\n"
   ]
  },
  {
   "cell_type": "code",
   "execution_count": 7,
   "metadata": {},
   "outputs": [],
   "source": [
    "# indices_df = pd.read_csv('results/fulldata/nn_indices.csv', index_col=\"id\")"
   ]
  },
  {
   "cell_type": "code",
   "execution_count": 9,
   "metadata": {},
   "outputs": [],
   "source": [
    "# indices_df = transform_indices(pd.read_csv('results/fulldata/nn_indices.csv', index_col=\"id\"))"
   ]
  },
  {
   "cell_type": "code",
   "execution_count": null,
   "metadata": {},
   "outputs": [],
   "source": [
    "set(sample.source)"
   ]
  },
  {
   "cell_type": "code",
   "execution_count": null,
   "metadata": {},
   "outputs": [],
   "source": [
    "# Replace all the neighbors from the same source with NaNs\n",
    "source0 = indices_df[sample.source==0]\n",
    "s0_ids = list(source0.index)\n",
    "\n",
    "source1 = indices_df[sample.source==1]\n",
    "s1_ids = list(source1.index)\n",
    "\n",
    "source2 = indices_df[sample.source==2]\n",
    "s2_ids = list(source2.index)\n",
    "\n",
    "\n",
    "s0_indices = source0.replace(s0_ids, np.NaN)\n",
    "s1_indices = source1.replace(s1_ids, np.NaN)\n",
    "s2_indices = source2.replace(s2_ids, np.NaN)"
   ]
  },
  {
   "cell_type": "code",
   "execution_count": 27,
   "metadata": {},
   "outputs": [],
   "source": [
    "ori = pd.read_csv(\"../data/processed/fulldata/mitsialis_bengsch_rahman_all.csv\", index_col=\"id\")"
   ]
  },
  {
   "cell_type": "code",
   "execution_count": 28,
   "metadata": {},
   "outputs": [
    {
     "data": {
      "text/html": [
       "<div>\n",
       "<style scoped>\n",
       "    .dataframe tbody tr th:only-of-type {\n",
       "        vertical-align: middle;\n",
       "    }\n",
       "\n",
       "    .dataframe tbody tr th {\n",
       "        vertical-align: top;\n",
       "    }\n",
       "\n",
       "    .dataframe thead th {\n",
       "        text-align: right;\n",
       "    }\n",
       "</style>\n",
       "<table border=\"1\" class=\"dataframe\">\n",
       "  <thead>\n",
       "    <tr style=\"text-align: right;\">\n",
       "      <th></th>\n",
       "      <th>BEADS</th>\n",
       "      <th>CENTER</th>\n",
       "      <th>AHR</th>\n",
       "      <th>IL1B</th>\n",
       "      <th>CXCR3</th>\n",
       "      <th>CD161</th>\n",
       "      <th>CD24</th>\n",
       "      <th>CCR6</th>\n",
       "      <th>CD123</th>\n",
       "      <th>CD45RA</th>\n",
       "      <th>...</th>\n",
       "      <th>CD45_159</th>\n",
       "      <th>41BB</th>\n",
       "      <th>HO165DI</th>\n",
       "      <th>BTLA</th>\n",
       "      <th>ER168DI</th>\n",
       "      <th>GRANZYMEB</th>\n",
       "      <th>GITR</th>\n",
       "      <th>YB176DI</th>\n",
       "      <th>OS189DI</th>\n",
       "      <th>CISPLATIN</th>\n",
       "    </tr>\n",
       "    <tr>\n",
       "      <th>id</th>\n",
       "      <th></th>\n",
       "      <th></th>\n",
       "      <th></th>\n",
       "      <th></th>\n",
       "      <th></th>\n",
       "      <th></th>\n",
       "      <th></th>\n",
       "      <th></th>\n",
       "      <th></th>\n",
       "      <th></th>\n",
       "      <th></th>\n",
       "      <th></th>\n",
       "      <th></th>\n",
       "      <th></th>\n",
       "      <th></th>\n",
       "      <th></th>\n",
       "      <th></th>\n",
       "      <th></th>\n",
       "      <th></th>\n",
       "      <th></th>\n",
       "      <th></th>\n",
       "    </tr>\n",
       "  </thead>\n",
       "  <tbody>\n",
       "    <tr>\n",
       "      <th>s0pt0_0</th>\n",
       "      <td>0.0</td>\n",
       "      <td>460.180</td>\n",
       "      <td>4.426606</td>\n",
       "      <td>1.649241</td>\n",
       "      <td>68.041640</td>\n",
       "      <td>1.834118</td>\n",
       "      <td>0.0</td>\n",
       "      <td>0.000000</td>\n",
       "      <td>0.0000</td>\n",
       "      <td>2.964842</td>\n",
       "      <td>...</td>\n",
       "      <td>NaN</td>\n",
       "      <td>NaN</td>\n",
       "      <td>NaN</td>\n",
       "      <td>NaN</td>\n",
       "      <td>NaN</td>\n",
       "      <td>NaN</td>\n",
       "      <td>NaN</td>\n",
       "      <td>NaN</td>\n",
       "      <td>NaN</td>\n",
       "      <td>NaN</td>\n",
       "    </tr>\n",
       "    <tr>\n",
       "      <th>s0pt0_1</th>\n",
       "      <td>0.0</td>\n",
       "      <td>460.306</td>\n",
       "      <td>0.000000</td>\n",
       "      <td>0.094052</td>\n",
       "      <td>47.596527</td>\n",
       "      <td>0.000000</td>\n",
       "      <td>0.0</td>\n",
       "      <td>1.628844</td>\n",
       "      <td>0.3416</td>\n",
       "      <td>22.856253</td>\n",
       "      <td>...</td>\n",
       "      <td>NaN</td>\n",
       "      <td>NaN</td>\n",
       "      <td>NaN</td>\n",
       "      <td>NaN</td>\n",
       "      <td>NaN</td>\n",
       "      <td>NaN</td>\n",
       "      <td>NaN</td>\n",
       "      <td>NaN</td>\n",
       "      <td>NaN</td>\n",
       "      <td>NaN</td>\n",
       "    </tr>\n",
       "    <tr>\n",
       "      <th>s0pt0_10</th>\n",
       "      <td>0.0</td>\n",
       "      <td>487.402</td>\n",
       "      <td>1.229172</td>\n",
       "      <td>0.319999</td>\n",
       "      <td>48.530052</td>\n",
       "      <td>56.886467</td>\n",
       "      <td>0.0</td>\n",
       "      <td>11.776571</td>\n",
       "      <td>0.0000</td>\n",
       "      <td>0.934674</td>\n",
       "      <td>...</td>\n",
       "      <td>NaN</td>\n",
       "      <td>NaN</td>\n",
       "      <td>NaN</td>\n",
       "      <td>NaN</td>\n",
       "      <td>NaN</td>\n",
       "      <td>NaN</td>\n",
       "      <td>NaN</td>\n",
       "      <td>NaN</td>\n",
       "      <td>NaN</td>\n",
       "      <td>NaN</td>\n",
       "    </tr>\n",
       "    <tr>\n",
       "      <th>s0pt0_100</th>\n",
       "      <td>0.0</td>\n",
       "      <td>503.194</td>\n",
       "      <td>7.175693</td>\n",
       "      <td>0.000000</td>\n",
       "      <td>29.998308</td>\n",
       "      <td>0.569988</td>\n",
       "      <td>0.0</td>\n",
       "      <td>1.437091</td>\n",
       "      <td>0.0000</td>\n",
       "      <td>17.747616</td>\n",
       "      <td>...</td>\n",
       "      <td>NaN</td>\n",
       "      <td>NaN</td>\n",
       "      <td>NaN</td>\n",
       "      <td>NaN</td>\n",
       "      <td>NaN</td>\n",
       "      <td>NaN</td>\n",
       "      <td>NaN</td>\n",
       "      <td>NaN</td>\n",
       "      <td>NaN</td>\n",
       "      <td>NaN</td>\n",
       "    </tr>\n",
       "    <tr>\n",
       "      <th>s0pt0_1000</th>\n",
       "      <td>0.0</td>\n",
       "      <td>574.591</td>\n",
       "      <td>0.626138</td>\n",
       "      <td>3.391332</td>\n",
       "      <td>0.512507</td>\n",
       "      <td>16.447502</td>\n",
       "      <td>0.0</td>\n",
       "      <td>0.555181</td>\n",
       "      <td>0.1025</td>\n",
       "      <td>0.364737</td>\n",
       "      <td>...</td>\n",
       "      <td>NaN</td>\n",
       "      <td>NaN</td>\n",
       "      <td>NaN</td>\n",
       "      <td>NaN</td>\n",
       "      <td>NaN</td>\n",
       "      <td>NaN</td>\n",
       "      <td>NaN</td>\n",
       "      <td>NaN</td>\n",
       "      <td>NaN</td>\n",
       "      <td>NaN</td>\n",
       "    </tr>\n",
       "    <tr>\n",
       "      <th>...</th>\n",
       "      <td>...</td>\n",
       "      <td>...</td>\n",
       "      <td>...</td>\n",
       "      <td>...</td>\n",
       "      <td>...</td>\n",
       "      <td>...</td>\n",
       "      <td>...</td>\n",
       "      <td>...</td>\n",
       "      <td>...</td>\n",
       "      <td>...</td>\n",
       "      <td>...</td>\n",
       "      <td>...</td>\n",
       "      <td>...</td>\n",
       "      <td>...</td>\n",
       "      <td>...</td>\n",
       "      <td>...</td>\n",
       "      <td>...</td>\n",
       "      <td>...</td>\n",
       "      <td>...</td>\n",
       "      <td>...</td>\n",
       "      <td>...</td>\n",
       "    </tr>\n",
       "    <tr>\n",
       "      <th>s2pt9_995</th>\n",
       "      <td>NaN</td>\n",
       "      <td>NaN</td>\n",
       "      <td>NaN</td>\n",
       "      <td>NaN</td>\n",
       "      <td>20.513000</td>\n",
       "      <td>12.178000</td>\n",
       "      <td>NaN</td>\n",
       "      <td>0.000000</td>\n",
       "      <td>NaN</td>\n",
       "      <td>0.000000</td>\n",
       "      <td>...</td>\n",
       "      <td>168.221</td>\n",
       "      <td>1.646</td>\n",
       "      <td>0.000</td>\n",
       "      <td>1.045</td>\n",
       "      <td>0.0</td>\n",
       "      <td>0.519</td>\n",
       "      <td>0.000</td>\n",
       "      <td>0.000</td>\n",
       "      <td>0.0</td>\n",
       "      <td>40.423</td>\n",
       "    </tr>\n",
       "    <tr>\n",
       "      <th>s2pt9_996</th>\n",
       "      <td>NaN</td>\n",
       "      <td>NaN</td>\n",
       "      <td>NaN</td>\n",
       "      <td>NaN</td>\n",
       "      <td>12.241000</td>\n",
       "      <td>48.590000</td>\n",
       "      <td>NaN</td>\n",
       "      <td>5.338000</td>\n",
       "      <td>NaN</td>\n",
       "      <td>0.000000</td>\n",
       "      <td>...</td>\n",
       "      <td>651.531</td>\n",
       "      <td>184.294</td>\n",
       "      <td>0.640</td>\n",
       "      <td>0.656</td>\n",
       "      <td>0.0</td>\n",
       "      <td>5.028</td>\n",
       "      <td>0.000</td>\n",
       "      <td>19.591</td>\n",
       "      <td>0.0</td>\n",
       "      <td>135.802</td>\n",
       "    </tr>\n",
       "    <tr>\n",
       "      <th>s2pt9_997</th>\n",
       "      <td>NaN</td>\n",
       "      <td>NaN</td>\n",
       "      <td>NaN</td>\n",
       "      <td>NaN</td>\n",
       "      <td>5.545000</td>\n",
       "      <td>29.345000</td>\n",
       "      <td>NaN</td>\n",
       "      <td>5.528000</td>\n",
       "      <td>NaN</td>\n",
       "      <td>4.481000</td>\n",
       "      <td>...</td>\n",
       "      <td>293.643</td>\n",
       "      <td>63.256</td>\n",
       "      <td>0.485</td>\n",
       "      <td>1.336</td>\n",
       "      <td>0.0</td>\n",
       "      <td>0.000</td>\n",
       "      <td>0.000</td>\n",
       "      <td>0.000</td>\n",
       "      <td>0.0</td>\n",
       "      <td>36.713</td>\n",
       "    </tr>\n",
       "    <tr>\n",
       "      <th>s2pt9_998</th>\n",
       "      <td>NaN</td>\n",
       "      <td>NaN</td>\n",
       "      <td>NaN</td>\n",
       "      <td>NaN</td>\n",
       "      <td>50.605000</td>\n",
       "      <td>2.902000</td>\n",
       "      <td>NaN</td>\n",
       "      <td>0.000000</td>\n",
       "      <td>NaN</td>\n",
       "      <td>0.000000</td>\n",
       "      <td>...</td>\n",
       "      <td>229.929</td>\n",
       "      <td>21.906</td>\n",
       "      <td>0.000</td>\n",
       "      <td>0.980</td>\n",
       "      <td>0.0</td>\n",
       "      <td>0.000</td>\n",
       "      <td>8.064</td>\n",
       "      <td>0.000</td>\n",
       "      <td>0.0</td>\n",
       "      <td>30.966</td>\n",
       "    </tr>\n",
       "    <tr>\n",
       "      <th>s2pt9_999</th>\n",
       "      <td>NaN</td>\n",
       "      <td>NaN</td>\n",
       "      <td>NaN</td>\n",
       "      <td>NaN</td>\n",
       "      <td>54.755000</td>\n",
       "      <td>0.000000</td>\n",
       "      <td>NaN</td>\n",
       "      <td>1.489000</td>\n",
       "      <td>NaN</td>\n",
       "      <td>0.000000</td>\n",
       "      <td>...</td>\n",
       "      <td>334.723</td>\n",
       "      <td>2.982</td>\n",
       "      <td>0.000</td>\n",
       "      <td>0.000</td>\n",
       "      <td>0.0</td>\n",
       "      <td>0.000</td>\n",
       "      <td>0.000</td>\n",
       "      <td>1.266</td>\n",
       "      <td>0.0</td>\n",
       "      <td>23.688</td>\n",
       "    </tr>\n",
       "  </tbody>\n",
       "</table>\n",
       "<p>14459358 rows × 114 columns</p>\n",
       "</div>"
      ],
      "text/plain": [
       "            BEADS   CENTER       AHR      IL1B      CXCR3      CD161  CD24  \\\n",
       "id                                                                           \n",
       "s0pt0_0       0.0  460.180  4.426606  1.649241  68.041640   1.834118   0.0   \n",
       "s0pt0_1       0.0  460.306  0.000000  0.094052  47.596527   0.000000   0.0   \n",
       "s0pt0_10      0.0  487.402  1.229172  0.319999  48.530052  56.886467   0.0   \n",
       "s0pt0_100     0.0  503.194  7.175693  0.000000  29.998308   0.569988   0.0   \n",
       "s0pt0_1000    0.0  574.591  0.626138  3.391332   0.512507  16.447502   0.0   \n",
       "...           ...      ...       ...       ...        ...        ...   ...   \n",
       "s2pt9_995     NaN      NaN       NaN       NaN  20.513000  12.178000   NaN   \n",
       "s2pt9_996     NaN      NaN       NaN       NaN  12.241000  48.590000   NaN   \n",
       "s2pt9_997     NaN      NaN       NaN       NaN   5.545000  29.345000   NaN   \n",
       "s2pt9_998     NaN      NaN       NaN       NaN  50.605000   2.902000   NaN   \n",
       "s2pt9_999     NaN      NaN       NaN       NaN  54.755000   0.000000   NaN   \n",
       "\n",
       "                 CCR6   CD123     CD45RA  ...  CD45_159     41BB  HO165DI  \\\n",
       "id                                        ...                               \n",
       "s0pt0_0      0.000000  0.0000   2.964842  ...       NaN      NaN      NaN   \n",
       "s0pt0_1      1.628844  0.3416  22.856253  ...       NaN      NaN      NaN   \n",
       "s0pt0_10    11.776571  0.0000   0.934674  ...       NaN      NaN      NaN   \n",
       "s0pt0_100    1.437091  0.0000  17.747616  ...       NaN      NaN      NaN   \n",
       "s0pt0_1000   0.555181  0.1025   0.364737  ...       NaN      NaN      NaN   \n",
       "...               ...     ...        ...  ...       ...      ...      ...   \n",
       "s2pt9_995    0.000000     NaN   0.000000  ...   168.221    1.646    0.000   \n",
       "s2pt9_996    5.338000     NaN   0.000000  ...   651.531  184.294    0.640   \n",
       "s2pt9_997    5.528000     NaN   4.481000  ...   293.643   63.256    0.485   \n",
       "s2pt9_998    0.000000     NaN   0.000000  ...   229.929   21.906    0.000   \n",
       "s2pt9_999    1.489000     NaN   0.000000  ...   334.723    2.982    0.000   \n",
       "\n",
       "             BTLA  ER168DI  GRANZYMEB   GITR  YB176DI  OS189DI  CISPLATIN  \n",
       "id                                                                         \n",
       "s0pt0_0       NaN      NaN        NaN    NaN      NaN      NaN        NaN  \n",
       "s0pt0_1       NaN      NaN        NaN    NaN      NaN      NaN        NaN  \n",
       "s0pt0_10      NaN      NaN        NaN    NaN      NaN      NaN        NaN  \n",
       "s0pt0_100     NaN      NaN        NaN    NaN      NaN      NaN        NaN  \n",
       "s0pt0_1000    NaN      NaN        NaN    NaN      NaN      NaN        NaN  \n",
       "...           ...      ...        ...    ...      ...      ...        ...  \n",
       "s2pt9_995   1.045      0.0      0.519  0.000    0.000      0.0     40.423  \n",
       "s2pt9_996   0.656      0.0      5.028  0.000   19.591      0.0    135.802  \n",
       "s2pt9_997   1.336      0.0      0.000  0.000    0.000      0.0     36.713  \n",
       "s2pt9_998   0.980      0.0      0.000  8.064    0.000      0.0     30.966  \n",
       "s2pt9_999   0.000      0.0      0.000  0.000    1.266      0.0     23.688  \n",
       "\n",
       "[14459358 rows x 114 columns]"
      ]
     },
     "execution_count": 28,
     "metadata": {},
     "output_type": "execute_result"
    }
   ],
   "source": [
    "ori"
   ]
  },
  {
   "cell_type": "code",
   "execution_count": null,
   "metadata": {},
   "outputs": [],
   "source": [
    "ori0 = ori.loc[s0_ids,:]\n",
    "ori1 = ori.loc[s1_ids,:]\n",
    "ori2 = ori.loc[s2_ids,:]\n"
   ]
  },
  {
   "cell_type": "code",
   "execution_count": null,
   "metadata": {},
   "outputs": [],
   "source": [
    "pd.options.mode.chained_assignment = None  # default='warn'\n",
    "\n",
    "temp_ori = ori.drop(columns=['source'])\n",
    "non_missing_columns = list(temp_ori[temp_ori.columns[~temp_ori.isnull().any()]].columns)\n",
    "\n",
    "imputed_df = pd.DataFrame()\n",
    "\n",
    "indices = list(indices_df.index)[:10]\n",
    "\n",
    "for x in indices:\n",
    "    sample = temp_ori.loc[x]\n",
    "    sample_nans = temp_ori.loc \n",
    "    # Get the indices of all the neighbors from differnt sources (we set same source to be na)\n",
    "    nn_indices = indices_df.loc[x,:].dropna() \n",
    "    # Get the actual neighbor samples\n",
    "    neighbors = temp_ori.loc[nn_indices,:]\n",
    "    # Get the markers that need to be imputed\n",
    "    missing_markers = list(sample[sample.isna()].index)\n",
    "    # # Get the mean for each marker from the neighbors \n",
    "    imputed_markers = pd.DataFrame(neighbors.mean()).T\n",
    "    imputed_df = pd.concat([imputed_df, imputed_markers])\n",
    "\n",
    "imputed_df.index = indices\n",
    "\n",
    "# Get the existing markers\n",
    "non_missing_imputed_df = imputed_df[non_missing_columns]\n",
    "non_missing_ori = temp_ori[non_missing_columns]\n",
    "\n",
    "non_missing_ori = non_missing_ori.loc[non_missing_imputed_df.index, non_missing_imputed_df.columns]\n",
    "mse = mean_squared_error(non_missing_ori, non_missing_imputed_df)\n",
    "mse"
   ]
  },
  {
   "cell_type": "code",
   "execution_count": null,
   "metadata": {},
   "outputs": [],
   "source": [
    "non_missing_imputed_df.head(2)"
   ]
  },
  {
   "cell_type": "code",
   "execution_count": null,
   "metadata": {},
   "outputs": [],
   "source": [
    "non_missing_ori.head(2)"
   ]
  },
  {
   "cell_type": "code",
   "execution_count": null,
   "metadata": {},
   "outputs": [],
   "source": []
  }
 ],
 "metadata": {
  "kernelspec": {
   "display_name": "cytof",
   "language": "python",
   "name": "cytof"
  },
  "language_info": {
   "codemirror_mode": {
    "name": "ipython",
    "version": 3
   },
   "file_extension": ".py",
   "mimetype": "text/x-python",
   "name": "python",
   "nbconvert_exporter": "python",
   "pygments_lexer": "ipython3",
   "version": "3.9.13"
  }
 },
 "nbformat": 4,
 "nbformat_minor": 4
}
