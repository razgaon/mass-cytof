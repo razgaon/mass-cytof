{
 "cells": [
  {
   "cell_type": "code",
   "execution_count": 11,
   "metadata": {},
   "outputs": [],
   "source": [
    "%reload_ext autoreload\n",
    "%autoreload 2\n",
    "import torch\n",
    "import os \n",
    "\n",
    "import pandas as pd\n",
    "import numpy as np\n",
    "# import scanpy as sc\n",
    "import os\n",
    "# from sklearn.model_selection import train_test_split\n",
    "import torch\n",
    "from torch import nn, optim\n",
    "from torch.utils.data import DataLoader, Dataset\n",
    "from torch.nn import functional as F\n",
    "from torch.autograd import Variable\n",
    "from sklearn.preprocessing import MinMaxScaler\n",
    "\n",
    "import functions as fx\n",
    "import models as mx\n",
    "import run as rx\n",
    "\n",
    "import multiprocessing"
   ]
  },
  {
   "cell_type": "code",
   "execution_count": null,
   "metadata": {},
   "outputs": [],
   "source": [
    "device = torch.device(\"cuda:0\" if torch.cuda.is_available() else \"cpu\")\n",
    "torch.set_num_threads(multiprocessing.cpu_count())\n",
    "torch.set_num_interop_threads(multiprocessing.cpu_count()) "
   ]
  },
  {
   "cell_type": "code",
   "execution_count": null,
   "metadata": {},
   "outputs": [],
   "source": [
    "ori_data = pd.read_csv(\"../data/processed/mitsialis_bengsch_rahman.csv\", index_col=\"id\")\n",
    "ori_data = ori_data.sample(frac=1)\n",
    "data = ori_data.sample(100)\n",
    "data.columns\n",
    "\n",
    "excluded_markers = ['pt', \"source\"]\n",
    "data_markers = [col for col in data.columns if col not in excluded_markers]\n",
    "\n",
    "scaler = MinMaxScaler()\n",
    "data[data_markers] = scaler.fit_transform(data[data_markers])\n",
    "data\n",
    "\n",
    "data = data[~data.index.duplicated(keep='first')]\n",
    "data.shape"
   ]
  },
  {
   "cell_type": "code",
   "execution_count": 4,
   "metadata": {},
   "outputs": [],
   "source": [
    "dataset = fx.MyDataset(data[data_markers])\n"
   ]
  },
  {
   "cell_type": "code",
   "execution_count": 5,
   "metadata": {},
   "outputs": [
    {
     "data": {
      "text/plain": [
       "VAE(\n",
       "  (fc1): Linear(in_features=10, out_features=50, bias=True)\n",
       "  (fc21): Linear(in_features=50, out_features=5, bias=True)\n",
       "  (fc22): Linear(in_features=50, out_features=5, bias=True)\n",
       "  (fc3): Linear(in_features=5, out_features=50, bias=True)\n",
       "  (fc4): Linear(in_features=50, out_features=10, bias=True)\n",
       "  (sigmoid): Sigmoid()\n",
       ")"
      ]
     },
     "execution_count": 5,
     "metadata": {},
     "output_type": "execute_result"
    }
   ],
   "source": [
    "net = mx.VAE(x_dim=dataset.x_train.shape[1], device=device)\n",
    "# net = MyDataParallel(net, device_ids=[0, 1])\n",
    "net.to(device)"
   ]
  },
  {
   "cell_type": "code",
   "execution_count": 10,
   "metadata": {},
   "outputs": [
    {
     "name": "stdout",
     "output_type": "stream",
     "text": [
      "Training loss for epoch 0 is 0.18391401, Reconstruction is 0.18070787, mmd is 0.00320613\n",
      "batchsize 10 0.01548004150390625 310.66028708133973\n"
     ]
    }
   ],
   "source": [
    "import time\n",
    "train_loader = DataLoader(dataset,shuffle=False,num_workers=0,batch_size=1000)\n",
    "since = time.time()\n",
    "base = time.time() - since\n",
    "rx.train(net, learning_rate = .0001, epochs = 1,\n",
    "      train_loader = train_loader, device=device)\n",
    "cost = time.time() - since\n",
    "print(\"batchsize 10\",cost,cost/base)"
   ]
  },
  {
   "cell_type": "code",
   "execution_count": null,
   "metadata": {},
   "outputs": [],
   "source": []
  }
 ],
 "metadata": {
  "kernelspec": {
   "display_name": "cytof",
   "language": "python",
   "name": "cytof"
  },
  "language_info": {
   "codemirror_mode": {
    "name": "ipython",
    "version": 3
   },
   "file_extension": ".py",
   "mimetype": "text/x-python",
   "name": "python",
   "nbconvert_exporter": "python",
   "pygments_lexer": "ipython3",
   "version": "3.9.13"
  }
 },
 "nbformat": 4,
 "nbformat_minor": 4
}
